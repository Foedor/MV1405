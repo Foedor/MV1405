{
 "cells": [
  {
   "cell_type": "code",
   "execution_count": 1,
   "metadata": {
    "collapsed": false
   },
   "outputs": [
    {
     "name": "stderr",
     "output_type": "stream",
     "text": [
      "/Users/sclayton/anaconda/lib/python2.7/site-packages/matplotlib/font_manager.py:273: UserWarning: Matplotlib is building the font cache using fc-list. This may take a moment.\n",
      "  warnings.warn('Matplotlib is building the font cache using fc-list. This may take a moment.')\n"
     ]
    }
   ],
   "source": [
    "% matplotlib inline\n",
    "\n",
    "from __future__ import division\n",
    "import numpy as np\n",
    "import pandas as pd\n",
    "import math\n",
    "import matplotlib.pyplot as plt\n",
    "from scipy.spatial.distance import pdist, squareform\n",
    "import time as tm\n",
    "import gsw as sw\n",
    "from scipy.optimize import curve_fit\n",
    "from scipy.stats import chi2\n",
    "\n",
    "import numpy.ma as ma\n",
    "\n",
    "from mpl_toolkits.basemap import Basemap, cm\n",
    "from netCDF4 import Dataset as NetCDFFile\n",
    "\n",
    "from matplotlib import rcParams, rc\n",
    "rcParams.update({'figure.autolayout': True})\n",
    "rcParams.update({'font.family': 'serif'})\n",
    "rcParams.update({'font.serif': 'Times New Roman'})\n",
    "#rc('text', usetex=True)"
   ]
  },
  {
   "cell_type": "code",
   "execution_count": 2,
   "metadata": {
    "collapsed": true
   },
   "outputs": [],
   "source": [
    "#def make_section(beg_cast, end_cast, var):\n",
    "    # make gridded section with distance and deoth as the\n"
   ]
  },
  {
   "cell_type": "code",
   "execution_count": 14,
   "metadata": {
    "collapsed": false
   },
   "outputs": [
    {
     "name": "stdout",
     "output_type": "stream",
     "text": [
      "Index([u'cast', u'latitude', u'longitude', u'depSM', u'prDM', u't090C',\n",
      "       u't190C', u'sal00', u'sal11', u'c0uS/cm', u'c1uS/cm', u'CStarAt0',\n",
      "       u'CStarTr0', u'sigma-é00', u'sigma-é11', u'flSP', u'sbeox0Mm/Kg',\n",
      "       u'sbeox0PS', u'potemp090C', u'potemp190C', u'potemp90Cdiff', u'par'],\n",
      "      dtype='object')\n",
      "Index([u'cast', u'Depth', u'nitrate+nit', u'Phosphate', u'Silicic acid'], dtype='object')\n"
     ]
    }
   ],
   "source": [
    "# set data directory \n",
    "indir = r'/Users/sclayton/Google Drive/2014 IrnBru/'\n",
    "\n",
    "ctdFile = r'%sShips data MV1405/CTD/DATA & PLOTS/binned_downcast.xls' % indir\n",
    "ctd = pd.read_excel(ctdFile, header = 0, sheet = 0)\n",
    "\n",
    "casts = pd.unique(ctd.cast)\n",
    "print ctd.columns\n",
    "\n",
    "nutsFile = '../data/nutrients_CTD.xlsx'\n",
    "nuts = pd.read_excel(nutsFile)\n",
    "\n",
    "print nuts.columns"
   ]
  },
  {
   "cell_type": "code",
   "execution_count": null,
   "metadata": {
    "collapsed": true
   },
   "outputs": [],
   "source": []
  }
 ],
 "metadata": {
  "kernelspec": {
   "display_name": "Python 2",
   "language": "python",
   "name": "python2"
  },
  "language_info": {
   "codemirror_mode": {
    "name": "ipython",
    "version": 2
   },
   "file_extension": ".py",
   "mimetype": "text/x-python",
   "name": "python",
   "nbconvert_exporter": "python",
   "pygments_lexer": "ipython2",
   "version": "2.7.11"
  }
 },
 "nbformat": 4,
 "nbformat_minor": 0
}
