{
 "cells": [
  {
   "cell_type": "code",
   "execution_count": 1,
   "metadata": {
    "collapsed": false
   },
   "outputs": [
    {
     "name": "stderr",
     "output_type": "stream",
     "text": [
      "/Users/sclayton/anaconda/lib/python2.7/site-packages/matplotlib/font_manager.py:273: UserWarning: Matplotlib is building the font cache using fc-list. This may take a moment.\n",
      "  warnings.warn('Matplotlib is building the font cache using fc-list. This may take a moment.')\n"
     ]
    }
   ],
   "source": [
    "% matplotlib inline\n",
    "\n",
    "from __future__ import division\n",
    "import numpy as np\n",
    "import pandas as pd\n",
    "import math\n",
    "import matplotlib.pyplot as plt\n",
    "from scipy.spatial.distance import pdist, squareform\n",
    "import time as tm\n",
    "import gsw as sw\n",
    "from scipy.optimize import curve_fit\n",
    "from scipy.stats import chi2\n",
    "\n",
    "import numpy.ma as ma\n",
    "\n",
    "from mpl_toolkits.basemap import Basemap, cm\n",
    "from netCDF4 import Dataset as NetCDFFile\n",
    "\n",
    "from matplotlib import rcParams, rc\n",
    "rcParams.update({'figure.autolayout': True})\n",
    "rcParams.update({'font.family': 'serif'})\n",
    "rcParams.update({'font.serif': 'Times New Roman'})\n",
    "#rc('text', usetex=True)"
   ]
  },
  {
   "cell_type": "code",
   "execution_count": 2,
   "metadata": {
    "collapsed": false
   },
   "outputs": [
    {
     "name": "stdout",
     "output_type": "stream",
     "text": [
      "Index([u'DATE TIME', u'True Wind spd', u'True Wind dir', u'Air Temp',\n",
      "       u'Barom. Press.', u'Barom. Press. 2', u'Rel Humid', u'Dew Point',\n",
      "       u'PAR ', u'Precip.', u'Sea chest', u'Sea chest.1', u'Salinity',\n",
      "       u'Salinity.1', u'Sea chest ', u'Oxygen', u'Ox. Sat.', u'Fluor',\n",
      "       u'Analyt. Lab', u'Lat', u'Lon', u'speed', u'Depth', u'DATE TIME.1'],\n",
      "      dtype='object')\n"
     ]
    }
   ],
   "source": [
    "# set data directory \n",
    "indir = r'/Users/sclayton/Google Drive/2014 IrnBru/'\n",
    "\n",
    "trackFile = r'%sCrunched Met/IrnBru MET corr continuous.xlsx' % indir\n",
    "track = pd.read_excel(trackFile, header = 1)\n",
    "track = track.dropna()\n",
    "units = track.index[0]\n",
    "track = track.drop(track.index[0])\n",
    "\n",
    "print track.columns"
   ]
  },
  {
   "cell_type": "code",
   "execution_count": 3,
   "metadata": {
    "collapsed": false
   },
   "outputs": [
    {
     "name": "stdout",
     "output_type": "stream",
     "text": [
      "Index([u'07/03/14-07/26/14'], dtype='object')\n"
     ]
    }
   ],
   "source": [
    "# set data directory \n",
    "indir = r'/Users/sclayton/Google Drive/2014 IrnBru/'\n",
    "\n",
    "trackFile = r'%sCrunched Transects/20150805 IrnBru2014 Transects NutsTMFvFm.xlsx' % indir\n",
    "trackN = pd.read_excel(trackFile, header = 1)\n",
    "trackN = trackN.dropna()\n",
    "units = trackN.index[0]\n",
    "trackN = trackN.drop(track.index[0])\n",
    "\n",
    "print trackN.columns"
   ]
  },
  {
   "cell_type": "code",
   "execution_count": null,
   "metadata": {
    "collapsed": true
   },
   "outputs": [],
   "source": []
  }
 ],
 "metadata": {
  "kernelspec": {
   "display_name": "Python 2",
   "language": "python",
   "name": "python2"
  },
  "language_info": {
   "codemirror_mode": {
    "name": "ipython",
    "version": 2
   },
   "file_extension": ".py",
   "mimetype": "text/x-python",
   "name": "python",
   "nbconvert_exporter": "python",
   "pygments_lexer": "ipython2",
   "version": "2.7.11"
  }
 },
 "nbformat": 4,
 "nbformat_minor": 0
}
