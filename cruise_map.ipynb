{
 "cells": [
  {
   "cell_type": "code",
   "execution_count": 1,
   "metadata": {
    "collapsed": false
   },
   "outputs": [
    {
     "name": "stderr",
     "output_type": "stream",
     "text": [
      "/Users/sclayton/anaconda/lib/python2.7/site-packages/matplotlib/font_manager.py:273: UserWarning: Matplotlib is building the font cache using fc-list. This may take a moment.\n",
      "  warnings.warn('Matplotlib is building the font cache using fc-list. This may take a moment.')\n"
     ]
    }
   ],
   "source": [
    "% matplotlib inline\n",
    "\n",
    "from __future__ import division\n",
    "import numpy as np\n",
    "import pandas as pd\n",
    "import math\n",
    "import matplotlib.pyplot as plt\n",
    "from scipy.spatial.distance import pdist, squareform\n",
    "import time as tm\n",
    "import gsw as sw\n",
    "from scipy.optimize import curve_fit\n",
    "from scipy.stats import chi2\n",
    "\n",
    "import numpy.ma as ma\n",
    "\n",
    "from mpl_toolkits.basemap import Basemap, cm\n",
    "from netCDF4 import Dataset as NetCDFFile\n",
    "\n",
    "from matplotlib import rcParams, rc\n",
    "rcParams.update({'figure.autolayout': True})\n",
    "rcParams.update({'font.family': 'serif'})\n",
    "rcParams.update({'font.serif': 'Times New Roman'})\n",
    "#rc('text', usetex=True)"
   ]
  },
  {
   "cell_type": "code",
   "execution_count": 7,
   "metadata": {
    "collapsed": false
   },
   "outputs": [
    {
     "name": "stdout",
     "output_type": "stream",
     "text": [
      "2         32.7066\n",
      "3         32.7066\n",
      "4         32.7066\n",
      "5         32.7066\n",
      "6         32.7066\n",
      "7         32.7066\n",
      "8         32.7066\n",
      "9         32.7066\n",
      "10        32.7066\n",
      "11        32.7066\n",
      "12        32.7066\n",
      "13        32.7066\n",
      "14        32.7066\n",
      "15        32.7066\n",
      "16        32.7066\n",
      "17        32.7066\n",
      "18        32.7066\n",
      "19        32.7066\n",
      "20        32.7066\n",
      "21        32.7066\n",
      "22        32.7066\n",
      "23        32.7066\n",
      "24        32.7066\n",
      "25        32.7067\n",
      "26        32.7066\n",
      "27        32.7066\n",
      "28        32.7066\n",
      "29        32.7066\n",
      "30        32.7066\n",
      "31        32.7066\n",
      "           ...   \n",
      "136070    32.6977\n",
      "136071    32.6975\n",
      "136072    32.6973\n",
      "136073    32.6972\n",
      "136074     32.697\n",
      "136075    32.6969\n",
      "136076    32.6968\n",
      "136077    32.6968\n",
      "136078    32.6968\n",
      "136079    32.6968\n",
      "136080    32.6969\n",
      "136081     32.697\n",
      "136082    32.6971\n",
      "136083    32.6972\n",
      "136084    32.6974\n",
      "136085    32.6975\n",
      "136086    32.6977\n",
      "136087    32.6978\n",
      "136088    32.6979\n",
      "136089     32.698\n",
      "136090    32.6981\n",
      "136091    32.6982\n",
      "136092    32.6983\n",
      "136093    32.6984\n",
      "136094    32.6985\n",
      "136095    32.6985\n",
      "136096    32.6986\n",
      "136097    32.6987\n",
      "136098    32.6988\n",
      "136099    32.6989\n",
      "Name: Lat, dtype: object\n"
     ]
    }
   ],
   "source": [
    "# set data directory \n",
    "indir = r'/Users/sclayton/Google Drive/2014 IrnBru/'\n",
    "\n",
    "trackFile = r'%sCrunched Met/IrnBru MET corr continuous.xlsx' % indir\n",
    "track = pd.read_excel(trackFile, header = 1)\n",
    "track = track.dropna()\n",
    "units = track.index[0]\n",
    "track = track.drop(track.index[0])"
   ]
  },
  {
   "cell_type": "code",
   "execution_count": null,
   "metadata": {
    "collapsed": true
   },
   "outputs": [],
   "source": []
  }
 ],
 "metadata": {
  "kernelspec": {
   "display_name": "Python 2",
   "language": "python",
   "name": "python2"
  },
  "language_info": {
   "codemirror_mode": {
    "name": "ipython",
    "version": 2
   },
   "file_extension": ".py",
   "mimetype": "text/x-python",
   "name": "python",
   "nbconvert_exporter": "python",
   "pygments_lexer": "ipython2",
   "version": "2.7.11"
  }
 },
 "nbformat": 4,
 "nbformat_minor": 0
}
